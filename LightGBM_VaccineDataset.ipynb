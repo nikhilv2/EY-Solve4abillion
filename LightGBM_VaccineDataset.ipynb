{
  "nbformat": 4,
  "nbformat_minor": 0,
  "metadata": {
    "colab": {
      "name": "LightGBM-VaccineDataset.ipynb",
      "provenance": [],
      "include_colab_link": true
    },
    "kernelspec": {
      "name": "python3",
      "display_name": "Python 3"
    }
  },
  "cells": [
    {
      "cell_type": "markdown",
      "metadata": {
        "id": "view-in-github",
        "colab_type": "text"
      },
      "source": [
        "<a href=\"https://colab.research.google.com/github/nikhilv2/EY-Solve4abillion/blob/main/LightGBM_VaccineDataset.ipynb\" target=\"_parent\"><img src=\"https://colab.research.google.com/assets/colab-badge.svg\" alt=\"Open In Colab\"/></a>"
      ]
    },
    {
      "cell_type": "code",
      "metadata": {
        "id": "aTAjVewAbNWu"
      },
      "source": [
        "### Importing the Required Libraries\r\n",
        "\r\n",
        "import lightgbm\r\n",
        "import numpy as np\r\n",
        "import pandas as pd\r\n",
        "from sklearn.model_selection import train_test_split\r\n",
        "import matplotlib.pyplot as plt"
      ],
      "execution_count": null,
      "outputs": []
    },
    {
      "cell_type": "code",
      "metadata": {
        "colab": {
          "base_uri": "https://localhost:8080/",
          "height": 343
        },
        "id": "eZs6x1ZibW2e",
        "outputId": "66191956-ead4-4010-8112-49301ec41b8a"
      },
      "source": [
        "### Reading the Dataset\r\n",
        "\r\n",
        "data = pd.read_csv(\"/content/MainDataset(Vaccine).csv\")\r\n",
        "data.head()"
      ],
      "execution_count": null,
      "outputs": [
        {
          "output_type": "execute_result",
          "data": {
            "text/html": [
              "<div>\n",
              "<style scoped>\n",
              "    .dataframe tbody tr th:only-of-type {\n",
              "        vertical-align: middle;\n",
              "    }\n",
              "\n",
              "    .dataframe tbody tr th {\n",
              "        vertical-align: top;\n",
              "    }\n",
              "\n",
              "    .dataframe thead th {\n",
              "        text-align: right;\n",
              "    }\n",
              "</style>\n",
              "<table border=\"1\" class=\"dataframe\">\n",
              "  <thead>\n",
              "    <tr style=\"text-align: right;\">\n",
              "      <th></th>\n",
              "      <th>Adhaar ID</th>\n",
              "      <th>Name</th>\n",
              "      <th>District</th>\n",
              "      <th>State</th>\n",
              "      <th>Male</th>\n",
              "      <th>Female</th>\n",
              "      <th>Age 0-18</th>\n",
              "      <th>Age 19-35</th>\n",
              "      <th>Age 36-50</th>\n",
              "      <th>Age 51-60</th>\n",
              "      <th>Age 60 Above</th>\n",
              "      <th>Obese Yes</th>\n",
              "      <th>Obese No</th>\n",
              "      <th>Heart Disease Yes</th>\n",
              "      <th>Heart Disease No</th>\n",
              "      <th>Lung Problem Yes</th>\n",
              "      <th>Lung Problem No</th>\n",
              "      <th>Muscle/ Joint pain</th>\n",
              "      <th>Tiredness</th>\n",
              "      <th>Headache</th>\n",
              "      <th>None</th>\n",
              "      <th>Fever</th>\n",
              "      <th>Mild Allergies</th>\n",
              "      <th>Covid Positive</th>\n",
              "      <th>Covid Negative</th>\n",
              "    </tr>\n",
              "  </thead>\n",
              "  <tbody>\n",
              "    <tr>\n",
              "      <th>0</th>\n",
              "      <td>A67876870</td>\n",
              "      <td>NAVEEN SURESH</td>\n",
              "      <td>Thiruvananthapuram</td>\n",
              "      <td>KERALA</td>\n",
              "      <td>1</td>\n",
              "      <td>0</td>\n",
              "      <td>0</td>\n",
              "      <td>0</td>\n",
              "      <td>0</td>\n",
              "      <td>1</td>\n",
              "      <td>0</td>\n",
              "      <td>1</td>\n",
              "      <td>0</td>\n",
              "      <td>1</td>\n",
              "      <td>0</td>\n",
              "      <td>0</td>\n",
              "      <td>1</td>\n",
              "      <td>1</td>\n",
              "      <td>0</td>\n",
              "      <td>0</td>\n",
              "      <td>0</td>\n",
              "      <td>0</td>\n",
              "      <td>0</td>\n",
              "      <td>0</td>\n",
              "      <td>1</td>\n",
              "    </tr>\n",
              "    <tr>\n",
              "      <th>1</th>\n",
              "      <td>A67876811</td>\n",
              "      <td>NAMITHA S</td>\n",
              "      <td>KOLLAM</td>\n",
              "      <td>KERALA</td>\n",
              "      <td>0</td>\n",
              "      <td>1</td>\n",
              "      <td>0</td>\n",
              "      <td>1</td>\n",
              "      <td>0</td>\n",
              "      <td>0</td>\n",
              "      <td>0</td>\n",
              "      <td>0</td>\n",
              "      <td>1</td>\n",
              "      <td>0</td>\n",
              "      <td>1</td>\n",
              "      <td>0</td>\n",
              "      <td>1</td>\n",
              "      <td>0</td>\n",
              "      <td>0</td>\n",
              "      <td>0</td>\n",
              "      <td>1</td>\n",
              "      <td>0</td>\n",
              "      <td>0</td>\n",
              "      <td>0</td>\n",
              "      <td>1</td>\n",
              "    </tr>\n",
              "    <tr>\n",
              "      <th>2</th>\n",
              "      <td>25004567</td>\n",
              "      <td>GOPINATH KRISHNAN</td>\n",
              "      <td>ALAPPUZHA</td>\n",
              "      <td>KERALA</td>\n",
              "      <td>0</td>\n",
              "      <td>0</td>\n",
              "      <td>0</td>\n",
              "      <td>0</td>\n",
              "      <td>1</td>\n",
              "      <td>1</td>\n",
              "      <td>1</td>\n",
              "      <td>0</td>\n",
              "      <td>1</td>\n",
              "      <td>0</td>\n",
              "      <td>0</td>\n",
              "      <td>0</td>\n",
              "      <td>0</td>\n",
              "      <td>0</td>\n",
              "      <td>1</td>\n",
              "      <td>1</td>\n",
              "      <td>0</td>\n",
              "      <td>0</td>\n",
              "      <td>0</td>\n",
              "      <td>0</td>\n",
              "      <td>1</td>\n",
              "    </tr>\n",
              "    <tr>\n",
              "      <th>3</th>\n",
              "      <td>1590423</td>\n",
              "      <td>RITHWIK NAIR</td>\n",
              "      <td>THIRUVALLA</td>\n",
              "      <td>KERALA</td>\n",
              "      <td>1</td>\n",
              "      <td>0</td>\n",
              "      <td>0</td>\n",
              "      <td>0</td>\n",
              "      <td>1</td>\n",
              "      <td>0</td>\n",
              "      <td>0</td>\n",
              "      <td>1</td>\n",
              "      <td>0</td>\n",
              "      <td>0</td>\n",
              "      <td>1</td>\n",
              "      <td>0</td>\n",
              "      <td>1</td>\n",
              "      <td>0</td>\n",
              "      <td>0</td>\n",
              "      <td>0</td>\n",
              "      <td>0</td>\n",
              "      <td>0</td>\n",
              "      <td>1</td>\n",
              "      <td>0</td>\n",
              "      <td>1</td>\n",
              "    </tr>\n",
              "    <tr>\n",
              "      <th>4</th>\n",
              "      <td>2348679</td>\n",
              "      <td>MATHEW S</td>\n",
              "      <td>ALAPPUZHA</td>\n",
              "      <td>KERALA</td>\n",
              "      <td>1</td>\n",
              "      <td>0</td>\n",
              "      <td>0</td>\n",
              "      <td>0</td>\n",
              "      <td>1</td>\n",
              "      <td>0</td>\n",
              "      <td>0</td>\n",
              "      <td>0</td>\n",
              "      <td>1</td>\n",
              "      <td>1</td>\n",
              "      <td>0</td>\n",
              "      <td>1</td>\n",
              "      <td>0</td>\n",
              "      <td>0</td>\n",
              "      <td>0</td>\n",
              "      <td>0</td>\n",
              "      <td>0</td>\n",
              "      <td>1</td>\n",
              "      <td>0</td>\n",
              "      <td>0</td>\n",
              "      <td>1</td>\n",
              "    </tr>\n",
              "  </tbody>\n",
              "</table>\n",
              "</div>"
            ],
            "text/plain": [
              "   Adhaar ID               Name  ... Covid Positive Covid Negative\n",
              "0  A67876870      NAVEEN SURESH  ...              0              1\n",
              "1  A67876811          NAMITHA S  ...              0              1\n",
              "2   25004567  GOPINATH KRISHNAN  ...              0              1\n",
              "3    1590423       RITHWIK NAIR  ...              0              1\n",
              "4    2348679           MATHEW S  ...              0              1\n",
              "\n",
              "[5 rows x 25 columns]"
            ]
          },
          "metadata": {
            "tags": []
          },
          "execution_count": 208
        }
      ]
    },
    {
      "cell_type": "code",
      "metadata": {
        "colab": {
          "base_uri": "https://localhost:8080/",
          "height": 204
        },
        "id": "9GTSw3cubi2o",
        "outputId": "c8ab00f0-b913-4c5b-fd6a-f1bdf2afec40"
      },
      "source": [
        "### Separating the Dataset to Features and Targets\r\n",
        "\r\n",
        "y = data.iloc[:, [23]]\r\n",
        "x = data.iloc[:, [4,5,6,7,8,9,10,11,13,15,17,18,19,20,21,22]]\r\n",
        "y.head()"
      ],
      "execution_count": null,
      "outputs": [
        {
          "output_type": "execute_result",
          "data": {
            "text/html": [
              "<div>\n",
              "<style scoped>\n",
              "    .dataframe tbody tr th:only-of-type {\n",
              "        vertical-align: middle;\n",
              "    }\n",
              "\n",
              "    .dataframe tbody tr th {\n",
              "        vertical-align: top;\n",
              "    }\n",
              "\n",
              "    .dataframe thead th {\n",
              "        text-align: right;\n",
              "    }\n",
              "</style>\n",
              "<table border=\"1\" class=\"dataframe\">\n",
              "  <thead>\n",
              "    <tr style=\"text-align: right;\">\n",
              "      <th></th>\n",
              "      <th>Covid Positive</th>\n",
              "    </tr>\n",
              "  </thead>\n",
              "  <tbody>\n",
              "    <tr>\n",
              "      <th>0</th>\n",
              "      <td>0</td>\n",
              "    </tr>\n",
              "    <tr>\n",
              "      <th>1</th>\n",
              "      <td>0</td>\n",
              "    </tr>\n",
              "    <tr>\n",
              "      <th>2</th>\n",
              "      <td>0</td>\n",
              "    </tr>\n",
              "    <tr>\n",
              "      <th>3</th>\n",
              "      <td>0</td>\n",
              "    </tr>\n",
              "    <tr>\n",
              "      <th>4</th>\n",
              "      <td>0</td>\n",
              "    </tr>\n",
              "  </tbody>\n",
              "</table>\n",
              "</div>"
            ],
            "text/plain": [
              "   Covid Positive\n",
              "0               0\n",
              "1               0\n",
              "2               0\n",
              "3               0\n",
              "4               0"
            ]
          },
          "metadata": {
            "tags": []
          },
          "execution_count": 209
        }
      ]
    },
    {
      "cell_type": "code",
      "metadata": {
        "id": "8C_U0byEbn8H"
      },
      "source": [
        "### Splitting into Train and Test Sets\r\n",
        "\r\n",
        "xtrain, xtest, ytrain, ytest = train_test_split(x, y, train_size=0.85, random_state = 0)"
      ],
      "execution_count": null,
      "outputs": []
    },
    {
      "cell_type": "code",
      "metadata": {
        "colab": {
          "base_uri": "https://localhost:8080/"
        },
        "id": "oOVy9T81bxXn",
        "outputId": "bf26c322-6940-4672-a483-a9422b71f6c8"
      },
      "source": [
        "### Buliding the model\r\n",
        "\r\n",
        "import lightgbm as ltb\r\n",
        "model = ltb.LGBMClassifier(learning_rate = 0.01)\r\n",
        "model = model.fit(xtrain, ytrain)\r\n",
        "print(model)"
      ],
      "execution_count": null,
      "outputs": [
        {
          "output_type": "stream",
          "text": [
            "LGBMClassifier(boosting_type='gbdt', class_weight=None, colsample_bytree=1.0,\n",
            "               importance_type='split', learning_rate=0.01, max_depth=-1,\n",
            "               min_child_samples=20, min_child_weight=0.001, min_split_gain=0.0,\n",
            "               n_estimators=100, n_jobs=-1, num_leaves=31, objective=None,\n",
            "               random_state=None, reg_alpha=0.0, reg_lambda=0.0, silent=True,\n",
            "               subsample=1.0, subsample_for_bin=200000, subsample_freq=0)\n"
          ],
          "name": "stdout"
        },
        {
          "output_type": "stream",
          "text": [
            "/usr/local/lib/python3.6/dist-packages/sklearn/preprocessing/_label.py:235: DataConversionWarning: A column-vector y was passed when a 1d array was expected. Please change the shape of y to (n_samples, ), for example using ravel().\n",
            "  y = column_or_1d(y, warn=True)\n",
            "/usr/local/lib/python3.6/dist-packages/sklearn/preprocessing/_label.py:268: DataConversionWarning: A column-vector y was passed when a 1d array was expected. Please change the shape of y to (n_samples, ), for example using ravel().\n",
            "  y = column_or_1d(y, warn=True)\n"
          ],
          "name": "stderr"
        }
      ]
    },
    {
      "cell_type": "code",
      "metadata": {
        "colab": {
          "base_uri": "https://localhost:8080/"
        },
        "id": "Br26VnEVb0S4",
        "outputId": "8dac3fa1-8be9-4cd3-e951-00d94d5b5a12"
      },
      "source": [
        "### Predicting the Model\r\n",
        "\r\n",
        "ypred = model.predict(xtest)\r\n",
        "ypred"
      ],
      "execution_count": null,
      "outputs": [
        {
          "output_type": "execute_result",
          "data": {
            "text/plain": [
              "array([0, 0, 0, 0, 0, 0, 0, 0, 0, 0, 0, 0, 0, 0, 0])"
            ]
          },
          "metadata": {
            "tags": []
          },
          "execution_count": 212
        }
      ]
    },
    {
      "cell_type": "code",
      "metadata": {
        "colab": {
          "base_uri": "https://localhost:8080/"
        },
        "id": "aQXaU4RDDdAZ",
        "outputId": "6b6d078d-c938-457a-c866-c4ccaa7bd655"
      },
      "source": [
        "### Using confusion matrix\r\n",
        "\r\n",
        "from sklearn.metrics import confusion_matrix\r\n",
        "cm = confusion_matrix(ytest, ypred)\r\n",
        "cm"
      ],
      "execution_count": null,
      "outputs": [
        {
          "output_type": "execute_result",
          "data": {
            "text/plain": [
              "array([[14,  0],\n",
              "       [ 1,  0]])"
            ]
          },
          "metadata": {
            "tags": []
          },
          "execution_count": 213
        }
      ]
    },
    {
      "cell_type": "code",
      "metadata": {
        "colab": {
          "base_uri": "https://localhost:8080/"
        },
        "id": "KqJsO7wUb6S3",
        "outputId": "856e12dc-a3ce-403e-bf96-1ea8a7d4e41c"
      },
      "source": [
        "### Predicting acccuracy\r\n",
        "\r\n",
        "from sklearn.metrics import accuracy_score\r\n",
        "accuracy = accuracy_score(ytest, ypred)\r\n",
        "accuracy"
      ],
      "execution_count": null,
      "outputs": [
        {
          "output_type": "execute_result",
          "data": {
            "text/plain": [
              "0.9333333333333333"
            ]
          },
          "metadata": {
            "tags": []
          },
          "execution_count": 214
        }
      ]
    },
    {
      "cell_type": "code",
      "metadata": {
        "colab": {
          "base_uri": "https://localhost:8080/"
        },
        "id": "kR7Iqx23b_e7",
        "outputId": "29931e7b-130d-448e-b6df-bb7b061d7844"
      },
      "source": [
        "### Obtaining the Learning Rate with best Accuracy\r\n",
        "accuracy =[]\r\n",
        "k_value = []\r\n",
        "for k in range(100):\r\n",
        "  if k%2 != 0:\r\n",
        "    model = ltb.LGBMClassifier(learning_rate=k)\r\n",
        "    model.fit(xtrain, ytrain) \r\n",
        "    ypred = model.predict(xtest)\r\n",
        "    accu = accuracy_score(ytest, ypred)\r\n",
        "    accuracy.append(accu)\r\n",
        "    k_value.append(k)"
      ],
      "execution_count": null,
      "outputs": [
        {
          "output_type": "stream",
          "text": [
            "/usr/local/lib/python3.6/dist-packages/sklearn/preprocessing/_label.py:235: DataConversionWarning: A column-vector y was passed when a 1d array was expected. Please change the shape of y to (n_samples, ), for example using ravel().\n",
            "  y = column_or_1d(y, warn=True)\n",
            "/usr/local/lib/python3.6/dist-packages/sklearn/preprocessing/_label.py:268: DataConversionWarning: A column-vector y was passed when a 1d array was expected. Please change the shape of y to (n_samples, ), for example using ravel().\n",
            "  y = column_or_1d(y, warn=True)\n"
          ],
          "name": "stderr"
        }
      ]
    },
    {
      "cell_type": "code",
      "metadata": {
        "colab": {
          "base_uri": "https://localhost:8080/",
          "height": 295
        },
        "id": "94rA7sBEcEq9",
        "outputId": "9abda762-4659-4587-ab0d-2068ce38dee6"
      },
      "source": [
        "### Plotting accuracy values\r\n",
        "\r\n",
        "import matplotlib.pyplot as plt\r\n",
        "plt.xlabel('Learning Rate')\r\n",
        "plt.ylabel('Accuracy')\r\n",
        "plt.title('Accuracy v/s Learning Rate')\r\n",
        "plt.plot(k_value, accuracy)\r\n",
        "plt.show()"
      ],
      "execution_count": null,
      "outputs": [
        {
          "output_type": "display_data",
          "data": {
            "image/png": "[encoded data removed]",
            "text/plain": [
              "<Figure size 432x288 with 1 Axes>"
            ]
          },
          "metadata": {
            "tags": [],
            "needs_background": "light"
          }
        }
      ]
    },
    {
      "cell_type": "code",
      "metadata": {
        "colab": {
          "base_uri": "https://localhost:8080/"
        },
        "id": "7qY9jBj3dtuT",
        "outputId": "14cff9ef-5490-4711-f1bc-8da671ce501c"
      },
      "source": [
        "### Count of COVID Patients after Vaccination\r\n",
        "\r\n",
        "covid_positive = y['Covid Positive'].value_counts()\r\n",
        "covid_positive"
      ],
      "execution_count": null,
      "outputs": [
        {
          "output_type": "execute_result",
          "data": {
            "text/plain": [
              "0    87\n",
              "1    13\n",
              "Name: Covid Positive, dtype: int64"
            ]
          },
          "metadata": {
            "tags": []
          },
          "execution_count": 217
        }
      ]
    },
    {
      "cell_type": "code",
      "metadata": {
        "colab": {
          "base_uri": "https://localhost:8080/"
        },
        "id": "5iPBc0Ukd0tU",
        "outputId": "b741bcef-eb90-42a1-d024-fec43c0ceaef"
      },
      "source": [
        "### Calculating Efficacy\r\n",
        "\r\n",
        "covid_test = y.groupby('Covid Positive')\r\n",
        "covid_negative_group = covid_test.get_group(0)\r\n",
        "covid_positive_group = covid_test.get_group(1)\r\n",
        "efficacy = len(covid_negative_group)/len(y)*100\r\n",
        "print('Efficacy:',efficacy,'%')"
      ],
      "execution_count": null,
      "outputs": [
        {
          "output_type": "stream",
          "text": [
            "Efficacy: 87.0 %\n"
          ],
          "name": "stdout"
        }
      ]
    },
    {
      "cell_type": "code",
      "metadata": {
        "id": "e5ifDVeXgNqK"
      },
      "source": [
        "### Predicting the Test Result by giving inputs\r\n",
        "\r\n",
        "def expected_result():\r\n",
        "  gender_m = input(\"Male:\")\r\n",
        "  gender_f = input(\"Female:\")\r\n",
        "  age_18 = input(\"0-18:\")\r\n",
        "  age_35 = input(\"19-35:\")\r\n",
        "  age_50 = input(\"36-50:\")\r\n",
        "  age_60 = input(\"51-60:\")\r\n",
        "  age_old = input(\"60 Above:\")\r\n",
        "  obese = input(\"Obese: \")\r\n",
        "  heart = input(\"Heart Disease: \")\r\n",
        "  lung = input(\"Lung Problems: \")\r\n",
        "  muscle_pain = input(\"Muscle/Joint Pain: \")\r\n",
        "  tired = input(\"Tiredness: \")\r\n",
        "  headache = input(\"Headache: \")\r\n",
        "  none = input(\"None: \")\r\n",
        "  fever = input(\"Fever: \")\r\n",
        "  mild_allergies = input(\"Mild Allergies: \")\r\n",
        "  result=model.predict([[gender_m, gender_f, age_18, age_35, age_50, age_60, age_old, obese, heart,\r\n",
        "                         lung, muscle_pain, tired, headache, none, fever, mild_allergies]])\r\n",
        "  if result==0:\r\n",
        "    print(\"The expected result will be negative.\")\r\n",
        "  else:\r\n",
        "    print(\"The expected result will be positive.\")  "
      ],
      "execution_count": null,
      "outputs": []
    },
    {
      "cell_type": "code",
      "metadata": {
        "id": "XtuPKwZzT6-z",
        "colab": {
          "base_uri": "https://localhost:8080/"
        },
        "outputId": "ae72b452-a133-470e-f08e-6adf2bbdb214"
      },
      "source": [
        "expected_result()"
      ],
      "execution_count": null,
      "outputs": [
        {
          "output_type": "stream",
          "text": [
            "Male:0\n",
            "Female:1\n",
            "0-18:0\n",
            "19-35:0\n",
            "36-50:1\n",
            "51-60:0\n",
            "60 Above:0\n",
            "Obese: 0\n",
            "Heart Disease: 1\n",
            "Lung Problems: 1\n",
            "Muscle/Joint Pain: 0\n",
            "Tiredness: 1\n",
            "Headache: 0\n",
            "None: 0\n",
            "Fever: 0\n",
            "Mild Allergies: 0\n",
            "The expected result will be positive.\n"
          ],
          "name": "stdout"
        },
        {
          "output_type": "stream",
          "text": [
            "/usr/local/lib/python3.6/dist-packages/lightgbm/sklearn.py:599: FutureWarning: Beginning in version 0.22, arrays of bytes/strings will be converted to decimal numbers if dtype='numeric'. It is recommended that you convert the array to a float dtype before using it in scikit-learn, for example by using your_array = your_array.astype(np.float64).\n",
            "  X = _LGBMCheckArray(X, accept_sparse=True, force_all_finite=False)\n"
          ],
          "name": "stderr"
        }
      ]
    },
    {
      "cell_type": "code",
      "metadata": {
        "id": "Xt50RDYVBZ4H",
        "colab": {
          "base_uri": "https://localhost:8080/",
          "height": 204
        },
        "outputId": "27b3c8f5-1291-456b-cf29-d825ecd5a764"
      },
      "source": [
        "### Data Preprocessing of District\r\n",
        "\r\n",
        "z = data.iloc[:,[2]]\r\n",
        "le_z = LabelEncoder()\r\n",
        "z = z.apply(LabelEncoder().fit_transform)\r\n",
        "\r\n",
        "dataset = data.iloc[:, [2,23]]\r\n",
        "le_dataset = LabelEncoder()\r\n",
        "dataset = dataset.apply(LabelEncoder().fit_transform)\r\n",
        "dataset.head()\r\n"
      ],
      "execution_count": null,
      "outputs": [
        {
          "output_type": "execute_result",
          "data": {
            "text/html": [
              "<div>\n",
              "<style scoped>\n",
              "    .dataframe tbody tr th:only-of-type {\n",
              "        vertical-align: middle;\n",
              "    }\n",
              "\n",
              "    .dataframe tbody tr th {\n",
              "        vertical-align: top;\n",
              "    }\n",
              "\n",
              "    .dataframe thead th {\n",
              "        text-align: right;\n",
              "    }\n",
              "</style>\n",
              "<table border=\"1\" class=\"dataframe\">\n",
              "  <thead>\n",
              "    <tr style=\"text-align: right;\">\n",
              "      <th></th>\n",
              "      <th>District</th>\n",
              "      <th>Covid Positive</th>\n",
              "    </tr>\n",
              "  </thead>\n",
              "  <tbody>\n",
              "    <tr>\n",
              "      <th>0</th>\n",
              "      <td>25</td>\n",
              "      <td>0</td>\n",
              "    </tr>\n",
              "    <tr>\n",
              "      <th>1</th>\n",
              "      <td>9</td>\n",
              "      <td>0</td>\n",
              "    </tr>\n",
              "    <tr>\n",
              "      <th>2</th>\n",
              "      <td>0</td>\n",
              "      <td>0</td>\n",
              "    </tr>\n",
              "    <tr>\n",
              "      <th>3</th>\n",
              "      <td>23</td>\n",
              "      <td>0</td>\n",
              "    </tr>\n",
              "    <tr>\n",
              "      <th>4</th>\n",
              "      <td>0</td>\n",
              "      <td>0</td>\n",
              "    </tr>\n",
              "  </tbody>\n",
              "</table>\n",
              "</div>"
            ],
            "text/plain": [
              "   District  Covid Positive\n",
              "0        25               0\n",
              "1         9               0\n",
              "2         0               0\n",
              "3        23               0\n",
              "4         0               0"
            ]
          },
          "metadata": {
            "tags": []
          },
          "execution_count": 222
        }
      ]
    },
    {
      "cell_type": "code",
      "metadata": {
        "id": "QwxrvIhRCmfv",
        "colab": {
          "base_uri": "https://localhost:8080/"
        },
        "outputId": "f6998107-6133-4b1f-bd6b-8532b5434bab"
      },
      "source": [
        "### Efficacy in Kollam\r\n",
        "\r\n",
        "area = dataset.groupby('District')\r\n",
        "\r\n",
        "kollam_covid = area.get_group(9)                                        #Corresponding preprocessed value can be entered to obtain Efficacy in each Region\r\n",
        "\r\n",
        "kollam_covid_data = kollam_covid.groupby('Covid Positive')\r\n",
        "\r\n",
        "kollam_covid_negative = kollam_covid_data.get_group(0)\r\n",
        "\r\n",
        "efficacy_region = len(kollam_covid_negative)/len(kollam_covid)*100\r\n",
        "\r\n",
        "print('Efficacy in Kollam:',efficacy_region,'%' )"
      ],
      "execution_count": null,
      "outputs": [
        {
          "output_type": "stream",
          "text": [
            "Efficacy in Kollam: 83.33333333333334 %\n"
          ],
          "name": "stdout"
        }
      ]
    },
    {
      "cell_type": "code",
      "metadata": {
        "id": "uFQsaopPSoBg"
      },
      "source": [
        ""
      ],
      "execution_count": null,
      "outputs": []
    }
  ]
}